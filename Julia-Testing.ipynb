{
 "cells": [
  {
   "cell_type": "code",
   "execution_count": 1,
   "metadata": {},
   "outputs": [
    {
     "data": {
      "text/plain": [
       "RPCRequest"
      ]
     },
     "execution_count": 1,
     "metadata": {},
     "output_type": "execute_result"
    }
   ],
   "source": [
    "\"\"\"\n",
    "A single request object according to the JSONRPC standard.\n",
    "\"\"\"\n",
    "Base.@kwdef struct RPCRequest\n",
    "    \"The JSONRPC version.\"\n",
    "    jsonrpc::String\n",
    "\n",
    "    \"The RPC function name.\"\n",
    "    method::String\n",
    "\n",
    "    \"The RPC function arguments.\"\n",
    "    params::Any\n",
    "\n",
    "    \"RPC request id (used to verify that request and response belong together).\"\n",
    "    id::String\n",
    "end"
   ]
  },
  {
   "cell_type": "code",
   "execution_count": null,
   "metadata": {},
   "outputs": [],
   "source": []
  }
 ],
 "metadata": {
  "kernelspec": {
   "display_name": "Julia 1.1.0",
   "language": "julia",
   "name": "julia-1.1"
  },
  "language_info": {
   "file_extension": ".jl",
   "mimetype": "application/julia",
   "name": "julia",
   "version": "1.1.0"
  }
 },
 "nbformat": 4,
 "nbformat_minor": 2
}
